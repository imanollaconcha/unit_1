{
 "cells": [
  {
   "cell_type": "code",
   "execution_count": 2,
   "metadata": {
    "executionInfo": {
     "elapsed": 435,
     "status": "ok",
     "timestamp": 1616777581391,
     "user": {
      "displayName": "Imanol Laconcha",
      "photoUrl": "https://lh3.googleusercontent.com/a-/AOh14GgdwLTcKvuLXY64oJFP31UAIMIkfYyj91vUKlRB2XI=s64",
      "userId": "11401304522237714459"
     },
     "user_tz": -60
    },
    "id": "2_RNSkYmvM0Z"
   },
   "outputs": [],
   "source": [
    "import pandas as pd\n",
    "import numpy as np\n",
    "import math\n",
    "from sklearn import linear_model"
   ]
  },
  {
   "cell_type": "code",
   "execution_count": 3,
   "metadata": {
    "colab": {
     "base_uri": "https://localhost:8080/",
     "height": 360
    },
    "executionInfo": {
     "elapsed": 887,
     "status": "ok",
     "timestamp": 1616777581863,
     "user": {
      "displayName": "Imanol Laconcha",
      "photoUrl": "https://lh3.googleusercontent.com/a-/AOh14GgdwLTcKvuLXY64oJFP31UAIMIkfYyj91vUKlRB2XI=s64",
      "userId": "11401304522237714459"
     },
     "user_tz": -60
    },
    "id": "Eo85lwe-vsWV",
    "outputId": "83b98d44-43c3-4d86-f4ba-db884bd8141c"
   },
   "outputs": [
    {
     "data": {
      "text/html": [
       "<div>\n",
       "<style scoped>\n",
       "    .dataframe tbody tr th:only-of-type {\n",
       "        vertical-align: middle;\n",
       "    }\n",
       "\n",
       "    .dataframe tbody tr th {\n",
       "        vertical-align: top;\n",
       "    }\n",
       "\n",
       "    .dataframe thead th {\n",
       "        text-align: right;\n",
       "    }\n",
       "</style>\n",
       "<table border=\"1\" class=\"dataframe\">\n",
       "  <thead>\n",
       "    <tr style=\"text-align: right;\">\n",
       "      <th></th>\n",
       "      <th>Customer</th>\n",
       "      <th>State</th>\n",
       "      <th>Customer Lifetime Value</th>\n",
       "      <th>Response</th>\n",
       "      <th>Coverage</th>\n",
       "      <th>Education</th>\n",
       "      <th>Effective To Date</th>\n",
       "      <th>EmploymentStatus</th>\n",
       "      <th>Gender</th>\n",
       "      <th>Income</th>\n",
       "      <th>...</th>\n",
       "      <th>Months Since Policy Inception</th>\n",
       "      <th>Number of Open Complaints</th>\n",
       "      <th>Number of Policies</th>\n",
       "      <th>Policy Type</th>\n",
       "      <th>Policy</th>\n",
       "      <th>Renew Offer Type</th>\n",
       "      <th>Sales Channel</th>\n",
       "      <th>Total Claim Amount</th>\n",
       "      <th>Vehicle Class</th>\n",
       "      <th>Vehicle Size</th>\n",
       "    </tr>\n",
       "  </thead>\n",
       "  <tbody>\n",
       "    <tr>\n",
       "      <th>0</th>\n",
       "      <td>BU79786</td>\n",
       "      <td>Washington</td>\n",
       "      <td>2763.519279</td>\n",
       "      <td>No</td>\n",
       "      <td>Basic</td>\n",
       "      <td>Bachelor</td>\n",
       "      <td>2/24/11</td>\n",
       "      <td>Employed</td>\n",
       "      <td>F</td>\n",
       "      <td>56274</td>\n",
       "      <td>...</td>\n",
       "      <td>5</td>\n",
       "      <td>0</td>\n",
       "      <td>1</td>\n",
       "      <td>Corporate Auto</td>\n",
       "      <td>Corporate L3</td>\n",
       "      <td>Offer1</td>\n",
       "      <td>Agent</td>\n",
       "      <td>384.811147</td>\n",
       "      <td>Two-Door Car</td>\n",
       "      <td>Medsize</td>\n",
       "    </tr>\n",
       "    <tr>\n",
       "      <th>1</th>\n",
       "      <td>QZ44356</td>\n",
       "      <td>Arizona</td>\n",
       "      <td>6979.535903</td>\n",
       "      <td>No</td>\n",
       "      <td>Extended</td>\n",
       "      <td>Bachelor</td>\n",
       "      <td>1/31/11</td>\n",
       "      <td>Unemployed</td>\n",
       "      <td>F</td>\n",
       "      <td>0</td>\n",
       "      <td>...</td>\n",
       "      <td>42</td>\n",
       "      <td>0</td>\n",
       "      <td>8</td>\n",
       "      <td>Personal Auto</td>\n",
       "      <td>Personal L3</td>\n",
       "      <td>Offer3</td>\n",
       "      <td>Agent</td>\n",
       "      <td>1131.464935</td>\n",
       "      <td>Four-Door Car</td>\n",
       "      <td>Medsize</td>\n",
       "    </tr>\n",
       "    <tr>\n",
       "      <th>2</th>\n",
       "      <td>AI49188</td>\n",
       "      <td>Nevada</td>\n",
       "      <td>12887.431650</td>\n",
       "      <td>No</td>\n",
       "      <td>Premium</td>\n",
       "      <td>Bachelor</td>\n",
       "      <td>2/19/11</td>\n",
       "      <td>Employed</td>\n",
       "      <td>F</td>\n",
       "      <td>48767</td>\n",
       "      <td>...</td>\n",
       "      <td>38</td>\n",
       "      <td>0</td>\n",
       "      <td>2</td>\n",
       "      <td>Personal Auto</td>\n",
       "      <td>Personal L3</td>\n",
       "      <td>Offer1</td>\n",
       "      <td>Agent</td>\n",
       "      <td>566.472247</td>\n",
       "      <td>Two-Door Car</td>\n",
       "      <td>Medsize</td>\n",
       "    </tr>\n",
       "    <tr>\n",
       "      <th>3</th>\n",
       "      <td>WW63253</td>\n",
       "      <td>California</td>\n",
       "      <td>7645.861827</td>\n",
       "      <td>No</td>\n",
       "      <td>Basic</td>\n",
       "      <td>Bachelor</td>\n",
       "      <td>1/20/11</td>\n",
       "      <td>Unemployed</td>\n",
       "      <td>M</td>\n",
       "      <td>0</td>\n",
       "      <td>...</td>\n",
       "      <td>65</td>\n",
       "      <td>0</td>\n",
       "      <td>7</td>\n",
       "      <td>Corporate Auto</td>\n",
       "      <td>Corporate L2</td>\n",
       "      <td>Offer1</td>\n",
       "      <td>Call Center</td>\n",
       "      <td>529.881344</td>\n",
       "      <td>SUV</td>\n",
       "      <td>Medsize</td>\n",
       "    </tr>\n",
       "    <tr>\n",
       "      <th>4</th>\n",
       "      <td>HB64268</td>\n",
       "      <td>Washington</td>\n",
       "      <td>2813.692575</td>\n",
       "      <td>No</td>\n",
       "      <td>Basic</td>\n",
       "      <td>Bachelor</td>\n",
       "      <td>2/3/11</td>\n",
       "      <td>Employed</td>\n",
       "      <td>M</td>\n",
       "      <td>43836</td>\n",
       "      <td>...</td>\n",
       "      <td>44</td>\n",
       "      <td>0</td>\n",
       "      <td>1</td>\n",
       "      <td>Personal Auto</td>\n",
       "      <td>Personal L1</td>\n",
       "      <td>Offer1</td>\n",
       "      <td>Agent</td>\n",
       "      <td>138.130879</td>\n",
       "      <td>Four-Door Car</td>\n",
       "      <td>Medsize</td>\n",
       "    </tr>\n",
       "  </tbody>\n",
       "</table>\n",
       "<p>5 rows × 24 columns</p>\n",
       "</div>"
      ],
      "text/plain": [
       "  Customer       State  Customer Lifetime Value Response  Coverage Education  \\\n",
       "0  BU79786  Washington              2763.519279       No     Basic  Bachelor   \n",
       "1  QZ44356     Arizona              6979.535903       No  Extended  Bachelor   \n",
       "2  AI49188      Nevada             12887.431650       No   Premium  Bachelor   \n",
       "3  WW63253  California              7645.861827       No     Basic  Bachelor   \n",
       "4  HB64268  Washington              2813.692575       No     Basic  Bachelor   \n",
       "\n",
       "  Effective To Date EmploymentStatus Gender  Income  ...  \\\n",
       "0           2/24/11         Employed      F   56274  ...   \n",
       "1           1/31/11       Unemployed      F       0  ...   \n",
       "2           2/19/11         Employed      F   48767  ...   \n",
       "3           1/20/11       Unemployed      M       0  ...   \n",
       "4            2/3/11         Employed      M   43836  ...   \n",
       "\n",
       "  Months Since Policy Inception Number of Open Complaints  Number of Policies  \\\n",
       "0                             5                         0                   1   \n",
       "1                            42                         0                   8   \n",
       "2                            38                         0                   2   \n",
       "3                            65                         0                   7   \n",
       "4                            44                         0                   1   \n",
       "\n",
       "      Policy Type        Policy  Renew Offer Type  Sales Channel  \\\n",
       "0  Corporate Auto  Corporate L3            Offer1          Agent   \n",
       "1   Personal Auto   Personal L3            Offer3          Agent   \n",
       "2   Personal Auto   Personal L3            Offer1          Agent   \n",
       "3  Corporate Auto  Corporate L2            Offer1    Call Center   \n",
       "4   Personal Auto   Personal L1            Offer1          Agent   \n",
       "\n",
       "  Total Claim Amount  Vehicle Class Vehicle Size  \n",
       "0         384.811147   Two-Door Car      Medsize  \n",
       "1        1131.464935  Four-Door Car      Medsize  \n",
       "2         566.472247   Two-Door Car      Medsize  \n",
       "3         529.881344            SUV      Medsize  \n",
       "4         138.130879  Four-Door Car      Medsize  \n",
       "\n",
       "[5 rows x 24 columns]"
      ]
     },
     "execution_count": 3,
     "metadata": {},
     "output_type": "execute_result"
    }
   ],
   "source": [
    "#Get the data\n",
    "file = pd.read_csv('files_for_lab/csv_files/marketing_customer_analysis.csv')\n",
    "file.head()"
   ]
  },
  {
   "cell_type": "code",
   "execution_count": 4,
   "metadata": {
    "colab": {
     "base_uri": "https://localhost:8080/"
    },
    "executionInfo": {
     "elapsed": 877,
     "status": "ok",
     "timestamp": 1616777581864,
     "user": {
      "displayName": "Imanol Laconcha",
      "photoUrl": "https://lh3.googleusercontent.com/a-/AOh14GgdwLTcKvuLXY64oJFP31UAIMIkfYyj91vUKlRB2XI=s64",
      "userId": "11401304522237714459"
     },
     "user_tz": -60
    },
    "id": "V65HMzFMwcol",
    "outputId": "daeaaf84-e374-455e-aaca-f2e1a4676c10"
   },
   "outputs": [
    {
     "data": {
      "text/plain": [
       "Customer                          object\n",
       "State                             object\n",
       "Customer Lifetime Value          float64\n",
       "Response                          object\n",
       "Coverage                          object\n",
       "Education                         object\n",
       "Effective To Date                 object\n",
       "EmploymentStatus                  object\n",
       "Gender                            object\n",
       "Income                             int64\n",
       "Location Code                     object\n",
       "Marital Status                    object\n",
       "Monthly Premium Auto               int64\n",
       "Months Since Last Claim            int64\n",
       "Months Since Policy Inception      int64\n",
       "Number of Open Complaints          int64\n",
       "Number of Policies                 int64\n",
       "Policy Type                       object\n",
       "Policy                            object\n",
       "Renew Offer Type                  object\n",
       "Sales Channel                     object\n",
       "Total Claim Amount               float64\n",
       "Vehicle Class                     object\n",
       "Vehicle Size                      object\n",
       "dtype: object"
      ]
     },
     "execution_count": 4,
     "metadata": {},
     "output_type": "execute_result"
    }
   ],
   "source": [
    "file.dtypes"
   ]
  },
  {
   "cell_type": "code",
   "execution_count": 5,
   "metadata": {
    "executionInfo": {
     "elapsed": 876,
     "status": "ok",
     "timestamp": 1616777581865,
     "user": {
      "displayName": "Imanol Laconcha",
      "photoUrl": "https://lh3.googleusercontent.com/a-/AOh14GgdwLTcKvuLXY64oJFP31UAIMIkfYyj91vUKlRB2XI=s64",
      "userId": "11401304522237714459"
     },
     "user_tz": -60
    },
    "id": "UB1M0GZrv3LC"
   },
   "outputs": [],
   "source": [
    "#Split into 2 \n",
    "y = file['Customer Lifetime Value']\n",
    "X = file.drop(['Customer Lifetime Value'], axis=1)"
   ]
  },
  {
   "cell_type": "code",
   "execution_count": 6,
   "metadata": {
    "executionInfo": {
     "elapsed": 874,
     "status": "ok",
     "timestamp": 1616777581865,
     "user": {
      "displayName": "Imanol Laconcha",
      "photoUrl": "https://lh3.googleusercontent.com/a-/AOh14GgdwLTcKvuLXY64oJFP31UAIMIkfYyj91vUKlRB2XI=s64",
      "userId": "11401304522237714459"
     },
     "user_tz": -60
    },
    "id": "dlEcdlbtx90S"
   },
   "outputs": [],
   "source": [
    "#Split into X into numerical and categorical\n",
    "X_num = X.select_dtypes(include= np.number)\n",
    "X_cat = X.select_dtypes(include= object)"
   ]
  },
  {
   "cell_type": "code",
   "execution_count": 7,
   "metadata": {
    "executionInfo": {
     "elapsed": 874,
     "status": "ok",
     "timestamp": 1616777581866,
     "user": {
      "displayName": "Imanol Laconcha",
      "photoUrl": "https://lh3.googleusercontent.com/a-/AOh14GgdwLTcKvuLXY64oJFP31UAIMIkfYyj91vUKlRB2XI=s64",
      "userId": "11401304522237714459"
     },
     "user_tz": -60
    },
    "id": "0TveUkjYymlt"
   },
   "outputs": [
    {
     "data": {
      "text/html": [
       "<div>\n",
       "<style scoped>\n",
       "    .dataframe tbody tr th:only-of-type {\n",
       "        vertical-align: middle;\n",
       "    }\n",
       "\n",
       "    .dataframe tbody tr th {\n",
       "        vertical-align: top;\n",
       "    }\n",
       "\n",
       "    .dataframe thead th {\n",
       "        text-align: right;\n",
       "    }\n",
       "</style>\n",
       "<table border=\"1\" class=\"dataframe\">\n",
       "  <thead>\n",
       "    <tr style=\"text-align: right;\">\n",
       "      <th></th>\n",
       "      <th>Income</th>\n",
       "      <th>Monthly Premium Auto</th>\n",
       "      <th>Months Since Last Claim</th>\n",
       "      <th>Months Since Policy Inception</th>\n",
       "      <th>Number of Open Complaints</th>\n",
       "      <th>Number of Policies</th>\n",
       "      <th>Total Claim Amount</th>\n",
       "    </tr>\n",
       "  </thead>\n",
       "  <tbody>\n",
       "    <tr>\n",
       "      <th>0</th>\n",
       "      <td>0.612827</td>\n",
       "      <td>-0.703925</td>\n",
       "      <td>1.678099</td>\n",
       "      <td>-1.543287</td>\n",
       "      <td>-0.422250</td>\n",
       "      <td>-0.822648</td>\n",
       "      <td>-0.169640</td>\n",
       "    </tr>\n",
       "    <tr>\n",
       "      <th>1</th>\n",
       "      <td>-1.239617</td>\n",
       "      <td>0.022691</td>\n",
       "      <td>-0.208186</td>\n",
       "      <td>-0.217334</td>\n",
       "      <td>-0.422250</td>\n",
       "      <td>2.106160</td>\n",
       "      <td>2.400737</td>\n",
       "    </tr>\n",
       "    <tr>\n",
       "      <th>2</th>\n",
       "      <td>0.365710</td>\n",
       "      <td>0.429596</td>\n",
       "      <td>0.288205</td>\n",
       "      <td>-0.360680</td>\n",
       "      <td>-0.422250</td>\n",
       "      <td>-0.404247</td>\n",
       "      <td>0.455734</td>\n",
       "    </tr>\n",
       "    <tr>\n",
       "      <th>3</th>\n",
       "      <td>-1.239617</td>\n",
       "      <td>0.371467</td>\n",
       "      <td>0.288205</td>\n",
       "      <td>0.606907</td>\n",
       "      <td>-0.422250</td>\n",
       "      <td>1.687759</td>\n",
       "      <td>0.329769</td>\n",
       "    </tr>\n",
       "    <tr>\n",
       "      <th>4</th>\n",
       "      <td>0.203390</td>\n",
       "      <td>-0.587666</td>\n",
       "      <td>-0.307465</td>\n",
       "      <td>-0.145661</td>\n",
       "      <td>-0.422250</td>\n",
       "      <td>-0.822648</td>\n",
       "      <td>-1.018843</td>\n",
       "    </tr>\n",
       "    <tr>\n",
       "      <th>...</th>\n",
       "      <td>...</td>\n",
       "      <td>...</td>\n",
       "      <td>...</td>\n",
       "      <td>...</td>\n",
       "      <td>...</td>\n",
       "      <td>...</td>\n",
       "      <td>...</td>\n",
       "    </tr>\n",
       "    <tr>\n",
       "      <th>9129</th>\n",
       "      <td>1.128558</td>\n",
       "      <td>-0.587666</td>\n",
       "      <td>0.288205</td>\n",
       "      <td>1.466984</td>\n",
       "      <td>-0.422250</td>\n",
       "      <td>-0.404247</td>\n",
       "      <td>-0.811934</td>\n",
       "    </tr>\n",
       "    <tr>\n",
       "      <th>9130</th>\n",
       "      <td>-0.528450</td>\n",
       "      <td>-0.413278</td>\n",
       "      <td>-0.108908</td>\n",
       "      <td>-0.719046</td>\n",
       "      <td>-0.422250</td>\n",
       "      <td>-0.822648</td>\n",
       "      <td>-0.188956</td>\n",
       "    </tr>\n",
       "    <tr>\n",
       "      <th>9131</th>\n",
       "      <td>-1.239617</td>\n",
       "      <td>-0.238891</td>\n",
       "      <td>-0.605299</td>\n",
       "      <td>-0.396517</td>\n",
       "      <td>2.873245</td>\n",
       "      <td>-0.404247</td>\n",
       "      <td>1.227937</td>\n",
       "    </tr>\n",
       "    <tr>\n",
       "      <th>9132</th>\n",
       "      <td>-0.517356</td>\n",
       "      <td>0.080820</td>\n",
       "      <td>1.876656</td>\n",
       "      <td>-1.614960</td>\n",
       "      <td>-0.422250</td>\n",
       "      <td>0.014154</td>\n",
       "      <td>0.885113</td>\n",
       "    </tr>\n",
       "    <tr>\n",
       "      <th>9133</th>\n",
       "      <td>-1.239617</td>\n",
       "      <td>-0.471408</td>\n",
       "      <td>-1.200968</td>\n",
       "      <td>1.502821</td>\n",
       "      <td>-0.422250</td>\n",
       "      <td>-0.822648</td>\n",
       "      <td>-0.222004</td>\n",
       "    </tr>\n",
       "  </tbody>\n",
       "</table>\n",
       "<p>9134 rows × 7 columns</p>\n",
       "</div>"
      ],
      "text/plain": [
       "        Income  Monthly Premium Auto  Months Since Last Claim  \\\n",
       "0     0.612827             -0.703925                 1.678099   \n",
       "1    -1.239617              0.022691                -0.208186   \n",
       "2     0.365710              0.429596                 0.288205   \n",
       "3    -1.239617              0.371467                 0.288205   \n",
       "4     0.203390             -0.587666                -0.307465   \n",
       "...        ...                   ...                      ...   \n",
       "9129  1.128558             -0.587666                 0.288205   \n",
       "9130 -0.528450             -0.413278                -0.108908   \n",
       "9131 -1.239617             -0.238891                -0.605299   \n",
       "9132 -0.517356              0.080820                 1.876656   \n",
       "9133 -1.239617             -0.471408                -1.200968   \n",
       "\n",
       "      Months Since Policy Inception  Number of Open Complaints  \\\n",
       "0                         -1.543287                  -0.422250   \n",
       "1                         -0.217334                  -0.422250   \n",
       "2                         -0.360680                  -0.422250   \n",
       "3                          0.606907                  -0.422250   \n",
       "4                         -0.145661                  -0.422250   \n",
       "...                             ...                        ...   \n",
       "9129                       1.466984                  -0.422250   \n",
       "9130                      -0.719046                  -0.422250   \n",
       "9131                      -0.396517                   2.873245   \n",
       "9132                      -1.614960                  -0.422250   \n",
       "9133                       1.502821                  -0.422250   \n",
       "\n",
       "      Number of Policies  Total Claim Amount  \n",
       "0              -0.822648           -0.169640  \n",
       "1               2.106160            2.400737  \n",
       "2              -0.404247            0.455734  \n",
       "3               1.687759            0.329769  \n",
       "4              -0.822648           -1.018843  \n",
       "...                  ...                 ...  \n",
       "9129           -0.404247           -0.811934  \n",
       "9130           -0.822648           -0.188956  \n",
       "9131           -0.404247            1.227937  \n",
       "9132            0.014154            0.885113  \n",
       "9133           -0.822648           -0.222004  \n",
       "\n",
       "[9134 rows x 7 columns]"
      ]
     },
     "execution_count": 7,
     "metadata": {},
     "output_type": "execute_result"
    }
   ],
   "source": [
    "#Normalize the data (Standariced it)\n",
    "from sklearn.preprocessing import StandardScaler\n",
    "X_standarized = StandardScaler().fit(X_num).transform(X_num)\n",
    "X_standarized = pd.DataFrame(X_standarized, columns=X_num.columns)\n",
    "X_standarized"
   ]
  },
  {
   "cell_type": "code",
   "execution_count": 11,
   "metadata": {
    "executionInfo": {
     "elapsed": 863,
     "status": "ok",
     "timestamp": 1616777581868,
     "user": {
      "displayName": "Imanol Laconcha",
      "photoUrl": "https://lh3.googleusercontent.com/a-/AOh14GgdwLTcKvuLXY64oJFP31UAIMIkfYyj91vUKlRB2XI=s64",
      "userId": "11401304522237714459"
     },
     "user_tz": -60
    },
    "id": "ugiRIVhIz7AI"
   },
   "outputs": [
    {
     "data": {
      "text/html": [
       "<div>\n",
       "<style scoped>\n",
       "    .dataframe tbody tr th:only-of-type {\n",
       "        vertical-align: middle;\n",
       "    }\n",
       "\n",
       "    .dataframe tbody tr th {\n",
       "        vertical-align: top;\n",
       "    }\n",
       "\n",
       "    .dataframe thead th {\n",
       "        text-align: right;\n",
       "    }\n",
       "</style>\n",
       "<table border=\"1\" class=\"dataframe\">\n",
       "  <thead>\n",
       "    <tr style=\"text-align: right;\">\n",
       "      <th></th>\n",
       "      <th>Customer</th>\n",
       "      <th>Response</th>\n",
       "      <th>Effective To Date</th>\n",
       "      <th>Gender</th>\n",
       "    </tr>\n",
       "  </thead>\n",
       "  <tbody>\n",
       "    <tr>\n",
       "      <th>0</th>\n",
       "      <td>BU79786</td>\n",
       "      <td>No</td>\n",
       "      <td>2/24/11</td>\n",
       "      <td>F</td>\n",
       "    </tr>\n",
       "    <tr>\n",
       "      <th>1</th>\n",
       "      <td>QZ44356</td>\n",
       "      <td>No</td>\n",
       "      <td>1/31/11</td>\n",
       "      <td>F</td>\n",
       "    </tr>\n",
       "    <tr>\n",
       "      <th>2</th>\n",
       "      <td>AI49188</td>\n",
       "      <td>No</td>\n",
       "      <td>2/19/11</td>\n",
       "      <td>F</td>\n",
       "    </tr>\n",
       "    <tr>\n",
       "      <th>3</th>\n",
       "      <td>WW63253</td>\n",
       "      <td>No</td>\n",
       "      <td>1/20/11</td>\n",
       "      <td>M</td>\n",
       "    </tr>\n",
       "    <tr>\n",
       "      <th>4</th>\n",
       "      <td>HB64268</td>\n",
       "      <td>No</td>\n",
       "      <td>2/3/11</td>\n",
       "      <td>M</td>\n",
       "    </tr>\n",
       "  </tbody>\n",
       "</table>\n",
       "</div>"
      ],
      "text/plain": [
       "  Customer Response Effective To Date Gender\n",
       "0  BU79786       No           2/24/11      F\n",
       "1  QZ44356       No           1/31/11      F\n",
       "2  AI49188       No           2/19/11      F\n",
       "3  WW63253       No           1/20/11      M\n",
       "4  HB64268       No            2/3/11      M"
      ]
     },
     "execution_count": 11,
     "metadata": {},
     "output_type": "execute_result"
    }
   ],
   "source": [
    "X_cat_onehot = X_cat.drop(['State', 'Coverage', 'Education', 'EmploymentStatus', 'Marital Status', 'Location Code', 'Policy', 'Renew Offer Type', 'Sales Channel', 'Vehicle Class', 'Vehicle Size', 'Policy Type'], axis=1)\n",
    "\n",
    "X_cat_label = X_cat.drop(['Response', 'Gender'], axis=1)\n",
    "X_cat_onehot.head()"
   ]
  },
  {
   "cell_type": "code",
   "execution_count": null,
   "metadata": {
    "colab": {
     "base_uri": "https://localhost:8080/"
    },
    "executionInfo": {
     "elapsed": 856,
     "status": "ok",
     "timestamp": 1616777581869,
     "user": {
      "displayName": "Imanol Laconcha",
      "photoUrl": "https://lh3.googleusercontent.com/a-/AOh14GgdwLTcKvuLXY64oJFP31UAIMIkfYyj91vUKlRB2XI=s64",
      "userId": "11401304522237714459"
     },
     "user_tz": -60
    },
    "id": "PPdOxG2Q2N-5",
    "outputId": "397ab186-2f87-4b5a-a787-03de89df07dd"
   },
   "outputs": [],
   "source": [
    "from sklearn.preprocessing import OneHotEncoder\n",
    "X_hot_encoder = OneHotEncoder().fit(X_cat_onehot).transform(X_cat_onehot).toarray()\n",
    "X_hot_encoder"
   ]
  },
  {
   "cell_type": "code",
   "execution_count": null,
   "metadata": {
    "executionInfo": {
     "elapsed": 855,
     "status": "ok",
     "timestamp": 1616777581870,
     "user": {
      "displayName": "Imanol Laconcha",
      "photoUrl": "https://lh3.googleusercontent.com/a-/AOh14GgdwLTcKvuLXY64oJFP31UAIMIkfYyj91vUKlRB2XI=s64",
      "userId": "11401304522237714459"
     },
     "user_tz": -60
    },
    "id": "qGU_3nK53Wjp"
   },
   "outputs": [],
   "source": [
    "X_hot_encoder = pd.DataFrame(X_hot_encoder)\n",
    "X_hot_encoder"
   ]
  },
  {
   "cell_type": "code",
   "execution_count": null,
   "metadata": {
    "colab": {
     "base_uri": "https://localhost:8080/",
     "height": 204
    },
    "executionInfo": {
     "elapsed": 1199,
     "status": "ok",
     "timestamp": 1616777582223,
     "user": {
      "displayName": "Imanol Laconcha",
      "photoUrl": "https://lh3.googleusercontent.com/a-/AOh14GgdwLTcKvuLXY64oJFP31UAIMIkfYyj91vUKlRB2XI=s64",
      "userId": "11401304522237714459"
     },
     "user_tz": -60
    },
    "id": "Pus-HdN8FIKS",
    "outputId": "92177a78-fb14-4911-93d5-94ad972f6657"
   },
   "outputs": [],
   "source": [
    "from sklearn.preprocessing import LabelEncoder\n",
    "X_lab_encoder = LabelEncoder().fit(X_cat_label['State']).transform(X_cat_label['State'])\n",
    "X_lab_encoder = pd.DataFrame(X_lab_encoder, columns=['State'])\n",
    "X_lab_encoder.head()"
   ]
  },
  {
   "cell_type": "code",
   "execution_count": null,
   "metadata": {
    "executionInfo": {
     "elapsed": 1198,
     "status": "ok",
     "timestamp": 1616777582224,
     "user": {
      "displayName": "Imanol Laconcha",
      "photoUrl": "https://lh3.googleusercontent.com/a-/AOh14GgdwLTcKvuLXY64oJFP31UAIMIkfYyj91vUKlRB2XI=s64",
      "userId": "11401304522237714459"
     },
     "user_tz": -60
    },
    "id": "OWbSY1rk33Bp"
   },
   "outputs": [],
   "source": [
    "#It does not make too much sense to encode categorical variables, because there are too many categorical options.\n",
    "#For that it does not have neither sense to concat the tables."
   ]
  },
  {
   "cell_type": "code",
   "execution_count": null,
   "metadata": {
    "colab": {
     "base_uri": "https://localhost:8080/",
     "height": 436
    },
    "executionInfo": {
     "elapsed": 1190,
     "status": "ok",
     "timestamp": 1616777582225,
     "user": {
      "displayName": "Imanol Laconcha",
      "photoUrl": "https://lh3.googleusercontent.com/a-/AOh14GgdwLTcKvuLXY64oJFP31UAIMIkfYyj91vUKlRB2XI=s64",
      "userId": "11401304522237714459"
     },
     "user_tz": -60
    },
    "id": "j86zQaUmKjNw",
    "outputId": "ae1a1b0d-b491-437b-f2f5-2de9cb2e34e3"
   },
   "outputs": [],
   "source": [
    "X_concat = pd.concat([X_standarized, X_hot_encoder], axis=1)\n",
    "X_concat"
   ]
  },
  {
   "cell_type": "code",
   "execution_count": null,
   "metadata": {
    "executionInfo": {
     "elapsed": 1189,
     "status": "ok",
     "timestamp": 1616777582226,
     "user": {
      "displayName": "Imanol Laconcha",
      "photoUrl": "https://lh3.googleusercontent.com/a-/AOh14GgdwLTcKvuLXY64oJFP31UAIMIkfYyj91vUKlRB2XI=s64",
      "userId": "11401304522237714459"
     },
     "user_tz": -60
    },
    "id": "Bi8hbW_g65Jy"
   },
   "outputs": [],
   "source": [
    "from sklearn.model_selection import train_test_split\n",
    "X = X_num\n",
    "X_train, X_test, y_train, y_test = train_test_split(X_num, y, test_size=0.25, random_state=100)"
   ]
  },
  {
   "cell_type": "code",
   "execution_count": null,
   "metadata": {
    "colab": {
     "base_uri": "https://localhost:8080/"
    },
    "executionInfo": {
     "elapsed": 1181,
     "status": "ok",
     "timestamp": 1616777582227,
     "user": {
      "displayName": "Imanol Laconcha",
      "photoUrl": "https://lh3.googleusercontent.com/a-/AOh14GgdwLTcKvuLXY64oJFP31UAIMIkfYyj91vUKlRB2XI=s64",
      "userId": "11401304522237714459"
     },
     "user_tz": -60
    },
    "id": "C585CEQK7WFV",
    "outputId": "d2485d66-607d-4cfe-b69f-14915ddb2087"
   },
   "outputs": [],
   "source": [
    "#Without taking into account categoricals variables\n",
    "lm = linear_model.LinearRegression()\n",
    "model = lm.fit(X_train,y_train) \n",
    "print(lm.intercept_)\n",
    "print(lm.coef_)"
   ]
  },
  {
   "cell_type": "code",
   "execution_count": null,
   "metadata": {
    "executionInfo": {
     "elapsed": 395,
     "status": "ok",
     "timestamp": 1616777698950,
     "user": {
      "displayName": "Imanol Laconcha",
      "photoUrl": "https://lh3.googleusercontent.com/a-/AOh14GgdwLTcKvuLXY64oJFP31UAIMIkfYyj91vUKlRB2XI=s64",
      "userId": "11401304522237714459"
     },
     "user_tz": -60
    },
    "id": "iRxn56fbMOLo"
   },
   "outputs": [],
   "source": [
    "from sklearn.metrics import r2_score\n",
    "from sklearn.metrics import mean_squared_error"
   ]
  },
  {
   "cell_type": "code",
   "execution_count": null,
   "metadata": {
    "colab": {
     "base_uri": "https://localhost:8080/"
    },
    "executionInfo": {
     "elapsed": 620,
     "status": "ok",
     "timestamp": 1616777700892,
     "user": {
      "displayName": "Imanol Laconcha",
      "photoUrl": "https://lh3.googleusercontent.com/a-/AOh14GgdwLTcKvuLXY64oJFP31UAIMIkfYyj91vUKlRB2XI=s64",
      "userId": "11401304522237714459"
     },
     "user_tz": -60
    },
    "id": "KXKL5y9bOD7k",
    "outputId": "165ab661-affd-4a7b-fec6-d98762d93283"
   },
   "outputs": [],
   "source": [
    "#R2\n",
    "predictions = lm.predict(X_test)\n",
    "r2_score(y_test, predictions)\n",
    "r2 = r2_score(y_test, predictions)\n",
    "r2"
   ]
  },
  {
   "cell_type": "code",
   "execution_count": null,
   "metadata": {
    "colab": {
     "base_uri": "https://localhost:8080/"
    },
    "executionInfo": {
     "elapsed": 590,
     "status": "ok",
     "timestamp": 1616777704298,
     "user": {
      "displayName": "Imanol Laconcha",
      "photoUrl": "https://lh3.googleusercontent.com/a-/AOh14GgdwLTcKvuLXY64oJFP31UAIMIkfYyj91vUKlRB2XI=s64",
      "userId": "11401304522237714459"
     },
     "user_tz": -60
    },
    "id": "utVLy2Jac5N1",
    "outputId": "6c42f37c-64d6-4270-e960-a62bce86c4a5"
   },
   "outputs": [],
   "source": [
    "#Description: MSE.\n",
    "mse = mean_squared_error(y_test, predictions)\n",
    "print(mse)"
   ]
  },
  {
   "cell_type": "code",
   "execution_count": null,
   "metadata": {
    "colab": {
     "base_uri": "https://localhost:8080/"
    },
    "executionInfo": {
     "elapsed": 420,
     "status": "ok",
     "timestamp": 1616777706607,
     "user": {
      "displayName": "Imanol Laconcha",
      "photoUrl": "https://lh3.googleusercontent.com/a-/AOh14GgdwLTcKvuLXY64oJFP31UAIMIkfYyj91vUKlRB2XI=s64",
      "userId": "11401304522237714459"
     },
     "user_tz": -60
    },
    "id": "umVwfUSgdV-6",
    "outputId": "1656c1d2-1079-4626-b674-4507673db19c"
   },
   "outputs": [],
   "source": [
    "#Description: RMSE.\n",
    "rmse = math.sqrt(mse)\n",
    "print(rmse)"
   ]
  },
  {
   "cell_type": "code",
   "execution_count": null,
   "metadata": {
    "colab": {
     "base_uri": "https://localhost:8080/"
    },
    "executionInfo": {
     "elapsed": 401,
     "status": "ok",
     "timestamp": 1616777710485,
     "user": {
      "displayName": "Imanol Laconcha",
      "photoUrl": "https://lh3.googleusercontent.com/a-/AOh14GgdwLTcKvuLXY64oJFP31UAIMIkfYyj91vUKlRB2XI=s64",
      "userId": "11401304522237714459"
     },
     "user_tz": -60
    },
    "id": "XWNyhqWvdYfX",
    "outputId": "b1a50369-321f-4e4e-ed54-9f7a476406df"
   },
   "outputs": [],
   "source": [
    "#Description: MAE.\n",
    "from sklearn.metrics import mean_absolute_error\n",
    "mean_absolute_error(y_test, predictions)"
   ]
  }
 ],
 "metadata": {
  "colab": {
   "authorship_tag": "ABX9TyOLMvHl5TJDE1731YrimJM7",
   "collapsed_sections": [],
   "name": "lab_round6.ipynb",
   "provenance": []
  },
  "kernelspec": {
   "display_name": "Python 3",
   "language": "python",
   "name": "python3"
  },
  "language_info": {
   "codemirror_mode": {
    "name": "ipython",
    "version": 3
   },
   "file_extension": ".py",
   "mimetype": "text/x-python",
   "name": "python",
   "nbconvert_exporter": "python",
   "pygments_lexer": "ipython3",
   "version": "3.9.2"
  }
 },
 "nbformat": 4,
 "nbformat_minor": 1
}
