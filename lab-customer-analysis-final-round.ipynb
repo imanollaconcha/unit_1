{
 "cells": [
  {
   "cell_type": "code",
   "execution_count": 69,
   "metadata": {
    "executionInfo": {
     "elapsed": 432,
     "status": "ok",
     "timestamp": 1616776871381,
     "user": {
      "displayName": "Imanol Laconcha",
      "photoUrl": "https://lh3.googleusercontent.com/a-/AOh14GgdwLTcKvuLXY64oJFP31UAIMIkfYyj91vUKlRB2XI=s64",
      "userId": "11401304522237714459"
     },
     "user_tz": -60
    },
    "id": "2_RNSkYmvM0Z"
   },
   "outputs": [],
   "source": [
    "import pandas as pd\n",
    "import numpy as np\n",
    "import seaborn as sns\n",
    "import math\n",
    "import matplotlib.pyplot as plt\n",
    "from sklearn import linear_model\n"
   ]
  },
  {
   "cell_type": "code",
   "execution_count": 70,
   "metadata": {
    "colab": {
     "base_uri": "https://localhost:8080/",
     "height": 360
    },
    "executionInfo": {
     "elapsed": 797,
     "status": "ok",
     "timestamp": 1616776871754,
     "user": {
      "displayName": "Imanol Laconcha",
      "photoUrl": "https://lh3.googleusercontent.com/a-/AOh14GgdwLTcKvuLXY64oJFP31UAIMIkfYyj91vUKlRB2XI=s64",
      "userId": "11401304522237714459"
     },
     "user_tz": -60
    },
    "id": "Eo85lwe-vsWV",
    "outputId": "d0e5eaaa-4760-4fe2-abb1-a7eaca51c5e2"
   },
   "outputs": [
    {
     "data": {
      "text/html": [
       "<div>\n",
       "<style scoped>\n",
       "    .dataframe tbody tr th:only-of-type {\n",
       "        vertical-align: middle;\n",
       "    }\n",
       "\n",
       "    .dataframe tbody tr th {\n",
       "        vertical-align: top;\n",
       "    }\n",
       "\n",
       "    .dataframe thead th {\n",
       "        text-align: right;\n",
       "    }\n",
       "</style>\n",
       "<table border=\"1\" class=\"dataframe\">\n",
       "  <thead>\n",
       "    <tr style=\"text-align: right;\">\n",
       "      <th></th>\n",
       "      <th>Customer</th>\n",
       "      <th>State</th>\n",
       "      <th>Customer Lifetime Value</th>\n",
       "      <th>Response</th>\n",
       "      <th>Coverage</th>\n",
       "      <th>Education</th>\n",
       "      <th>Effective To Date</th>\n",
       "      <th>EmploymentStatus</th>\n",
       "      <th>Gender</th>\n",
       "      <th>Income</th>\n",
       "      <th>...</th>\n",
       "      <th>Months Since Policy Inception</th>\n",
       "      <th>Number of Open Complaints</th>\n",
       "      <th>Number of Policies</th>\n",
       "      <th>Policy Type</th>\n",
       "      <th>Policy</th>\n",
       "      <th>Renew Offer Type</th>\n",
       "      <th>Sales Channel</th>\n",
       "      <th>Total Claim Amount</th>\n",
       "      <th>Vehicle Class</th>\n",
       "      <th>Vehicle Size</th>\n",
       "    </tr>\n",
       "  </thead>\n",
       "  <tbody>\n",
       "    <tr>\n",
       "      <th>0</th>\n",
       "      <td>BU79786</td>\n",
       "      <td>Washington</td>\n",
       "      <td>2763.519279</td>\n",
       "      <td>No</td>\n",
       "      <td>Basic</td>\n",
       "      <td>Bachelor</td>\n",
       "      <td>2/24/11</td>\n",
       "      <td>Employed</td>\n",
       "      <td>F</td>\n",
       "      <td>56274</td>\n",
       "      <td>...</td>\n",
       "      <td>5</td>\n",
       "      <td>0</td>\n",
       "      <td>1</td>\n",
       "      <td>Corporate Auto</td>\n",
       "      <td>Corporate L3</td>\n",
       "      <td>Offer1</td>\n",
       "      <td>Agent</td>\n",
       "      <td>384.811147</td>\n",
       "      <td>Two-Door Car</td>\n",
       "      <td>Medsize</td>\n",
       "    </tr>\n",
       "    <tr>\n",
       "      <th>1</th>\n",
       "      <td>QZ44356</td>\n",
       "      <td>Arizona</td>\n",
       "      <td>6979.535903</td>\n",
       "      <td>No</td>\n",
       "      <td>Extended</td>\n",
       "      <td>Bachelor</td>\n",
       "      <td>1/31/11</td>\n",
       "      <td>Unemployed</td>\n",
       "      <td>F</td>\n",
       "      <td>0</td>\n",
       "      <td>...</td>\n",
       "      <td>42</td>\n",
       "      <td>0</td>\n",
       "      <td>8</td>\n",
       "      <td>Personal Auto</td>\n",
       "      <td>Personal L3</td>\n",
       "      <td>Offer3</td>\n",
       "      <td>Agent</td>\n",
       "      <td>1131.464935</td>\n",
       "      <td>Four-Door Car</td>\n",
       "      <td>Medsize</td>\n",
       "    </tr>\n",
       "    <tr>\n",
       "      <th>2</th>\n",
       "      <td>AI49188</td>\n",
       "      <td>Nevada</td>\n",
       "      <td>12887.431650</td>\n",
       "      <td>No</td>\n",
       "      <td>Premium</td>\n",
       "      <td>Bachelor</td>\n",
       "      <td>2/19/11</td>\n",
       "      <td>Employed</td>\n",
       "      <td>F</td>\n",
       "      <td>48767</td>\n",
       "      <td>...</td>\n",
       "      <td>38</td>\n",
       "      <td>0</td>\n",
       "      <td>2</td>\n",
       "      <td>Personal Auto</td>\n",
       "      <td>Personal L3</td>\n",
       "      <td>Offer1</td>\n",
       "      <td>Agent</td>\n",
       "      <td>566.472247</td>\n",
       "      <td>Two-Door Car</td>\n",
       "      <td>Medsize</td>\n",
       "    </tr>\n",
       "    <tr>\n",
       "      <th>3</th>\n",
       "      <td>WW63253</td>\n",
       "      <td>California</td>\n",
       "      <td>7645.861827</td>\n",
       "      <td>No</td>\n",
       "      <td>Basic</td>\n",
       "      <td>Bachelor</td>\n",
       "      <td>1/20/11</td>\n",
       "      <td>Unemployed</td>\n",
       "      <td>M</td>\n",
       "      <td>0</td>\n",
       "      <td>...</td>\n",
       "      <td>65</td>\n",
       "      <td>0</td>\n",
       "      <td>7</td>\n",
       "      <td>Corporate Auto</td>\n",
       "      <td>Corporate L2</td>\n",
       "      <td>Offer1</td>\n",
       "      <td>Call Center</td>\n",
       "      <td>529.881344</td>\n",
       "      <td>SUV</td>\n",
       "      <td>Medsize</td>\n",
       "    </tr>\n",
       "    <tr>\n",
       "      <th>4</th>\n",
       "      <td>HB64268</td>\n",
       "      <td>Washington</td>\n",
       "      <td>2813.692575</td>\n",
       "      <td>No</td>\n",
       "      <td>Basic</td>\n",
       "      <td>Bachelor</td>\n",
       "      <td>2/3/11</td>\n",
       "      <td>Employed</td>\n",
       "      <td>M</td>\n",
       "      <td>43836</td>\n",
       "      <td>...</td>\n",
       "      <td>44</td>\n",
       "      <td>0</td>\n",
       "      <td>1</td>\n",
       "      <td>Personal Auto</td>\n",
       "      <td>Personal L1</td>\n",
       "      <td>Offer1</td>\n",
       "      <td>Agent</td>\n",
       "      <td>138.130879</td>\n",
       "      <td>Four-Door Car</td>\n",
       "      <td>Medsize</td>\n",
       "    </tr>\n",
       "  </tbody>\n",
       "</table>\n",
       "<p>5 rows × 24 columns</p>\n",
       "</div>"
      ],
      "text/plain": [
       "  Customer       State  Customer Lifetime Value Response  Coverage Education  \\\n",
       "0  BU79786  Washington              2763.519279       No     Basic  Bachelor   \n",
       "1  QZ44356     Arizona              6979.535903       No  Extended  Bachelor   \n",
       "2  AI49188      Nevada             12887.431650       No   Premium  Bachelor   \n",
       "3  WW63253  California              7645.861827       No     Basic  Bachelor   \n",
       "4  HB64268  Washington              2813.692575       No     Basic  Bachelor   \n",
       "\n",
       "  Effective To Date EmploymentStatus Gender  Income  ...  \\\n",
       "0           2/24/11         Employed      F   56274  ...   \n",
       "1           1/31/11       Unemployed      F       0  ...   \n",
       "2           2/19/11         Employed      F   48767  ...   \n",
       "3           1/20/11       Unemployed      M       0  ...   \n",
       "4            2/3/11         Employed      M   43836  ...   \n",
       "\n",
       "  Months Since Policy Inception Number of Open Complaints  Number of Policies  \\\n",
       "0                             5                         0                   1   \n",
       "1                            42                         0                   8   \n",
       "2                            38                         0                   2   \n",
       "3                            65                         0                   7   \n",
       "4                            44                         0                   1   \n",
       "\n",
       "      Policy Type        Policy  Renew Offer Type  Sales Channel  \\\n",
       "0  Corporate Auto  Corporate L3            Offer1          Agent   \n",
       "1   Personal Auto   Personal L3            Offer3          Agent   \n",
       "2   Personal Auto   Personal L3            Offer1          Agent   \n",
       "3  Corporate Auto  Corporate L2            Offer1    Call Center   \n",
       "4   Personal Auto   Personal L1            Offer1          Agent   \n",
       "\n",
       "  Total Claim Amount  Vehicle Class Vehicle Size  \n",
       "0         384.811147   Two-Door Car      Medsize  \n",
       "1        1131.464935  Four-Door Car      Medsize  \n",
       "2         566.472247   Two-Door Car      Medsize  \n",
       "3         529.881344            SUV      Medsize  \n",
       "4         138.130879  Four-Door Car      Medsize  \n",
       "\n",
       "[5 rows x 24 columns]"
      ]
     },
     "execution_count": 70,
     "metadata": {},
     "output_type": "execute_result"
    }
   ],
   "source": [
    "#Get the data\n",
    "file = pd.read_csv('files_for_lab/csv_files/marketing_customer_analysis.csv')\n",
    "file.head()"
   ]
  },
  {
   "cell_type": "code",
   "execution_count": 71,
   "metadata": {},
   "outputs": [
    {
     "data": {
      "text/plain": [
       "(9134, 24)"
      ]
     },
     "execution_count": 71,
     "metadata": {},
     "output_type": "execute_result"
    }
   ],
   "source": [
    "#The dataframe shape.\n",
    "file.shape"
   ]
  },
  {
   "cell_type": "code",
   "execution_count": 72,
   "metadata": {},
   "outputs": [],
   "source": [
    "#Change headers names.\n",
    "file = file.rename(columns = {'EmploymentStatus':'Empoyment Status'})"
   ]
  },
  {
   "cell_type": "code",
   "execution_count": 73,
   "metadata": {},
   "outputs": [
    {
     "data": {
      "text/plain": [
       "Customer                         0.0\n",
       "State                            0.0\n",
       "Customer Lifetime Value          0.0\n",
       "Response                         0.0\n",
       "Coverage                         0.0\n",
       "Education                        0.0\n",
       "Effective To Date                0.0\n",
       "Empoyment Status                 0.0\n",
       "Gender                           0.0\n",
       "Income                           0.0\n",
       "Location Code                    0.0\n",
       "Marital Status                   0.0\n",
       "Monthly Premium Auto             0.0\n",
       "Months Since Last Claim          0.0\n",
       "Months Since Policy Inception    0.0\n",
       "Number of Open Complaints        0.0\n",
       "Number of Policies               0.0\n",
       "Policy Type                      0.0\n",
       "Policy                           0.0\n",
       "Renew Offer Type                 0.0\n",
       "Sales Channel                    0.0\n",
       "Total Claim Amount               0.0\n",
       "Vehicle Class                    0.0\n",
       "Vehicle Size                     0.0\n",
       "dtype: float64"
      ]
     },
     "execution_count": 73,
     "metadata": {},
     "output_type": "execute_result"
    }
   ],
   "source": [
    "#Dealing with NaN values, there are not NaN values.\n",
    "file.isna().sum()\n",
    "round(file.isna().sum()/len(file),4)*100 "
   ]
  },
  {
   "cell_type": "code",
   "execution_count": 74,
   "metadata": {
    "executionInfo": {
     "elapsed": 778,
     "status": "ok",
     "timestamp": 1616776871756,
     "user": {
      "displayName": "Imanol Laconcha",
      "photoUrl": "https://lh3.googleusercontent.com/a-/AOh14GgdwLTcKvuLXY64oJFP31UAIMIkfYyj91vUKlRB2XI=s64",
      "userId": "11401304522237714459"
     },
     "user_tz": -60
    },
    "id": "UB1M0GZrv3LC"
   },
   "outputs": [],
   "source": [
    "#Split into 2 \n",
    "y = file['Total Claim Amount']\n",
    "X = file.drop(['Total Claim Amount'], axis=1)"
   ]
  },
  {
   "cell_type": "code",
   "execution_count": 75,
   "metadata": {
    "executionInfo": {
     "elapsed": 775,
     "status": "ok",
     "timestamp": 1616776871756,
     "user": {
      "displayName": "Imanol Laconcha",
      "photoUrl": "https://lh3.googleusercontent.com/a-/AOh14GgdwLTcKvuLXY64oJFP31UAIMIkfYyj91vUKlRB2XI=s64",
      "userId": "11401304522237714459"
     },
     "user_tz": -60
    },
    "id": "dlEcdlbtx90S"
   },
   "outputs": [
    {
     "data": {
      "text/plain": [
       "Customer Lifetime Value          float64\n",
       "Income                             int64\n",
       "Monthly Premium Auto               int64\n",
       "Months Since Last Claim            int64\n",
       "Months Since Policy Inception      int64\n",
       "Number of Open Complaints          int64\n",
       "Number of Policies                 int64\n",
       "dtype: object"
      ]
     },
     "execution_count": 75,
     "metadata": {},
     "output_type": "execute_result"
    }
   ],
   "source": [
    "#Split into X into numerical and categorical\n",
    "X_num = X.select_dtypes(include= np.number)\n",
    "X_cat = X.select_dtypes(include= object)\n",
    "X_num.dtypes"
   ]
  },
  {
   "cell_type": "code",
   "execution_count": 76,
   "metadata": {},
   "outputs": [
    {
     "data": {
      "image/png": "[encoded data removed]",
      "text/plain": [
       "<Figure size 360x360 with 1 Axes>"
      ]
     },
     "metadata": {
      "needs_background": "light"
     },
     "output_type": "display_data"
    },
    {
     "data": {
      "image/png": "[encoded data removed]",
      "text/plain": [
       "<Figure size 360x360 with 1 Axes>"
      ]
     },
     "metadata": {
      "needs_background": "light"
     },
     "output_type": "display_data"
    },
    {
     "data": {
      "image/png": "[encoded data removed]",
      "text/plain": [
       "<Figure size 360x360 with 1 Axes>"
      ]
     },
     "metadata": {
      "needs_background": "light"
     },
     "output_type": "display_data"
    },
    {
     "data": {
      "image/png": "[encoded data removed]",
      "text/plain": [
       "<Figure size 360x360 with 1 Axes>"
      ]
     },
     "metadata": {
      "needs_background": "light"
     },
     "output_type": "display_data"
    },
    {
     "data": {
      "image/png": "[encoded data removed]",
      "text/plain": [
       "<Figure size 360x360 with 1 Axes>"
      ]
     },
     "metadata": {
      "needs_background": "light"
     },
     "output_type": "display_data"
    },
    {
     "data": {
      "image/png": "[encoded data removed]",
      "text/plain": [
       "<Figure size 360x360 with 1 Axes>"
      ]
     },
     "metadata": {
      "needs_background": "light"
     },
     "output_type": "display_data"
    },
    {
     "data": {
      "image/png": "[encoded data removed]",
      "text/plain": [
       "<Figure size 360x360 with 1 Axes>"
      ]
     },
     "metadata": {
      "needs_background": "light"
     },
     "output_type": "display_data"
    }
   ],
   "source": [
    "sns.displot(file['Customer Lifetime Value'])\n",
    "plt.show()\n",
    "sns.displot(file['Income'])\n",
    "plt.show()\n",
    "sns.displot(file['Monthly Premium Auto'])\n",
    "plt.show()\n",
    "sns.displot(file['Months Since Last Claim'])\n",
    "plt.show()\n",
    "sns.displot(file['Months Since Policy Inception'])\n",
    "plt.show()\n",
    "sns.displot(file['Number of Open Complaints'])\n",
    "plt.show()\n",
    "sns.displot(file['Number of Policies'])\n",
    "plt.show()"
   ]
  },
  {
   "cell_type": "code",
   "execution_count": 77,
   "metadata": {},
   "outputs": [],
   "source": [
    "#Exploration.\n",
    "#for i in range(7):\n",
    "#    sns.displot(X_num.iloc[i])\n",
    "#    plt.show()"
   ]
  },
  {
   "cell_type": "code",
   "execution_count": 78,
   "metadata": {},
   "outputs": [
    {
     "data": {
      "image/png": "[encoded data removed]",
      "text/plain": [
       "<Figure size 432x288 with 1 Axes>"
      ]
     },
     "metadata": {
      "needs_background": "light"
     },
     "output_type": "display_data"
    },
    {
     "data": {
      "image/png": "[encoded data removed]",
      "text/plain": [
       "<Figure size 432x288 with 1 Axes>"
      ]
     },
     "metadata": {
      "needs_background": "light"
     },
     "output_type": "display_data"
    },
    {
     "data": {
      "image/png": "[encoded data removed]",
      "text/plain": [
       "<Figure size 432x288 with 1 Axes>"
      ]
     },
     "metadata": {
      "needs_background": "light"
     },
     "output_type": "display_data"
    },
    {
     "data": {
      "image/png": "[encoded data removed]",
      "text/plain": [
       "<Figure size 432x288 with 1 Axes>"
      ]
     },
     "metadata": {
      "needs_background": "light"
     },
     "output_type": "display_data"
    },
    {
     "data": {
      "image/png": "[encoded data removed]",
      "text/plain": [
       "<Figure size 432x288 with 1 Axes>"
      ]
     },
     "metadata": {
      "needs_background": "light"
     },
     "output_type": "display_data"
    },
    {
     "data": {
      "image/png": "[encoded data removed]",
      "text/plain": [
       "<Figure size 432x288 with 1 Axes>"
      ]
     },
     "metadata": {
      "needs_background": "light"
     },
     "output_type": "display_data"
    },
    {
     "data": {
      "image/png": "[encoded data removed]",
      "text/plain": [
       "<Figure size 432x288 with 1 Axes>"
      ]
     },
     "metadata": {
      "needs_background": "light"
     },
     "output_type": "display_data"
    }
   ],
   "source": [
    "#Explotation, Histograms.\n",
    "for i in range(7):\n",
    "    X_num.iloc[i].hist(bins=20)\n",
    "    plt.show()"
   ]
  },
  {
   "cell_type": "code",
   "execution_count": 79,
   "metadata": {},
   "outputs": [],
   "source": [
    "#Dealing with outliers\n",
    "iqr = np.percentile(file['Customer Lifetime Value'],75) - np.percentile(file['Customer Lifetime Value'],25)\n",
    "upper_limit = np.percentile(file['Customer Lifetime Value'],75) + 1.5*iqr\n",
    "lower_limit = np.percentile(file['Customer Lifetime Value'],25) - 1.5*iqr\n",
    "\n",
    "iqr = np.percentile(file['Income'],75) - np.percentile(file['Income'],25)\n",
    "upper_limit = np.percentile(file['Income'],75) + 1.5*iqr\n",
    "lower_limit = np.percentile(file['Income'],25) - 1.5*iqr\n",
    "\n",
    "iqr = np.percentile(file['Monthly Premium Auto'],75) - np.percentile(file['Monthly Premium Auto'],25)\n",
    "upper_limit = np.percentile(file['Monthly Premium Auto'],75) + 1.5*iqr\n",
    "lower_limit = np.percentile(file['Monthly Premium Auto'],25) - 1.5*iqr\n",
    "\n",
    "iqr = np.percentile(file['Months Since Last Claim'],75) - np.percentile(file['Months Since Last Claim'],25)\n",
    "upper_limit = np.percentile(file['Months Since Last Claim'],75) + 1.5*iqr\n",
    "lower_limit = np.percentile(file['Months Since Last Claim'],25) - 1.5*iqr\n",
    "\n",
    "iqr = np.percentile(file['Months Since Policy Inception'],75) - np.percentile(file['Months Since Policy Inception'],25)\n",
    "upper_limit = np.percentile(file['Months Since Policy Inception'],75) + 1.5*iqr\n",
    "lower_limit = np.percentile(file['Months Since Policy Inception'],25) - 1.5*iqr\n",
    "\n",
    "iqr = np.percentile(file['Number of Open Complaints'],75) - np.percentile(file['Number of Open Complaints'],25)\n",
    "upper_limit = np.percentile(file['Number of Open Complaints'],75) + 1.5*iqr\n",
    "lower_limit = np.percentile(file['Number of Open Complaints'],25) - 1.5*iqr\n",
    "\n",
    "iqr = np.percentile(file['Number of Policies'],75) - np.percentile(file['Number of Policies'],25)\n",
    "upper_limit = np.percentile(file['Number of Policies'],75) + 1.5*iqr\n",
    "lower_limit = np.percentile(file['Number of Policies'],25) - 1.5*iqr\n"
   ]
  },
  {
   "cell_type": "code",
   "execution_count": 80,
   "metadata": {},
   "outputs": [],
   "source": [
    "file1 = file[(file['Customer Lifetime Value']>lower_limit) & (file['Customer Lifetime Value']<upper_limit)]\n",
    "file1 = file[(file['Income']>lower_limit) & (file['Income']<upper_limit)]\n",
    "file1 = file[(file['Monthly Premium Auto']>lower_limit) & (file['Monthly Premium Auto']<upper_limit)]\n",
    "file1 = file[(file['Months Since Last Claim']>lower_limit) & (file['Months Since Last Claim']<upper_limit)]\n",
    "file1 = file[(file['Months Since Policy Inception']>lower_limit) & (file['Months Since Policy Inception']<upper_limit)]\n",
    "file1 = file[(file['Number of Open Complaints']>lower_limit) & (file['Number of Open Complaints']<upper_limit)]\n",
    "file1 = file[(file['Number of Policies']>lower_limit) & (file['Number of Policies']<upper_limit)]"
   ]
  },
  {
   "cell_type": "code",
   "execution_count": 81,
   "metadata": {},
   "outputs": [
    {
     "data": {
      "text/plain": [
       "(8718, 24)"
      ]
     },
     "execution_count": 81,
     "metadata": {},
     "output_type": "execute_result"
    }
   ],
   "source": [
    "file1.shape"
   ]
  },
  {
   "cell_type": "code",
   "execution_count": 82,
   "metadata": {
    "executionInfo": {
     "elapsed": 773,
     "status": "ok",
     "timestamp": 1616776871757,
     "user": {
      "displayName": "Imanol Laconcha",
      "photoUrl": "https://lh3.googleusercontent.com/a-/AOh14GgdwLTcKvuLXY64oJFP31UAIMIkfYyj91vUKlRB2XI=s64",
      "userId": "11401304522237714459"
     },
     "user_tz": -60
    },
    "id": "0TveUkjYymlt"
   },
   "outputs": [],
   "source": [
    "#Normalize the data (Standariced it)\n",
    "from sklearn.preprocessing import StandardScaler\n",
    "X_standarized = StandardScaler().fit(X_num).transform(X_num)\n",
    "X_standarized = pd.DataFrame(X_standarized, columns=X_num.columns)\n"
   ]
  },
  {
   "cell_type": "code",
   "execution_count": 83,
   "metadata": {
    "colab": {
     "base_uri": "https://localhost:8080/"
    },
    "executionInfo": {
     "elapsed": 770,
     "status": "ok",
     "timestamp": 1616776871757,
     "user": {
      "displayName": "Imanol Laconcha",
      "photoUrl": "https://lh3.googleusercontent.com/a-/AOh14GgdwLTcKvuLXY64oJFP31UAIMIkfYyj91vUKlRB2XI=s64",
      "userId": "11401304522237714459"
     },
     "user_tz": -60
    },
    "id": "rYuzYq3AEitB",
    "outputId": "faa7888c-35b0-42fb-cfeb-2c35336a285b"
   },
   "outputs": [
    {
     "data": {
      "text/plain": [
       "Index(['Customer', 'State', 'Response', 'Coverage', 'Education',\n",
       "       'Effective To Date', 'Empoyment Status', 'Gender', 'Location Code',\n",
       "       'Marital Status', 'Policy Type', 'Policy', 'Renew Offer Type',\n",
       "       'Sales Channel', 'Vehicle Class', 'Vehicle Size'],\n",
       "      dtype='object')"
      ]
     },
     "execution_count": 83,
     "metadata": {},
     "output_type": "execute_result"
    }
   ],
   "source": [
    "X_cat.columns"
   ]
  },
  {
   "cell_type": "code",
   "execution_count": 84,
   "metadata": {
    "executionInfo": {
     "elapsed": 763,
     "status": "ok",
     "timestamp": 1616776871758,
     "user": {
      "displayName": "Imanol Laconcha",
      "photoUrl": "https://lh3.googleusercontent.com/a-/AOh14GgdwLTcKvuLXY64oJFP31UAIMIkfYyj91vUKlRB2XI=s64",
      "userId": "11401304522237714459"
     },
     "user_tz": -60
    },
    "id": "ugiRIVhIz7AI"
   },
   "outputs": [],
   "source": [
    "#Encoding Categorical Data.\n",
    "\n",
    "X_cat1 = X_cat.drop(['Customer','Effective To Date'], axis=1)\n",
    "\n",
    "X_cat_onehot = X_cat1.drop(['State', 'Coverage', 'Education', 'Empoyment Status', 'Marital Status', 'Location Code', 'Policy', 'Renew Offer Type', 'Sales Channel', 'Vehicle Class', 'Vehicle Size', 'Policy Type'], axis=1)\n",
    "\n",
    "X_cat_label = X_cat1.drop(['Response', 'Gender'], axis=1)\n"
   ]
  },
  {
   "cell_type": "code",
   "execution_count": 85,
   "metadata": {
    "colab": {
     "base_uri": "https://localhost:8080/"
    },
    "executionInfo": {
     "elapsed": 760,
     "status": "ok",
     "timestamp": 1616776871759,
     "user": {
      "displayName": "Imanol Laconcha",
      "photoUrl": "https://lh3.googleusercontent.com/a-/AOh14GgdwLTcKvuLXY64oJFP31UAIMIkfYyj91vUKlRB2XI=s64",
      "userId": "11401304522237714459"
     },
     "user_tz": -60
    },
    "id": "PPdOxG2Q2N-5",
    "outputId": "ed7ce422-1dcb-417e-9412-659730bf3184"
   },
   "outputs": [
    {
     "data": {
      "text/plain": [
       "array([[1., 0., 1., 0.],\n",
       "       [1., 0., 1., 0.],\n",
       "       [1., 0., 1., 0.],\n",
       "       ...,\n",
       "       [1., 0., 0., 1.],\n",
       "       [1., 0., 0., 1.],\n",
       "       [1., 0., 0., 1.]])"
      ]
     },
     "execution_count": 85,
     "metadata": {},
     "output_type": "execute_result"
    }
   ],
   "source": [
    "from sklearn.preprocessing import OneHotEncoder\n",
    "X_hot_encoder = OneHotEncoder().fit(X_cat_onehot).transform(X_cat_onehot).toarray()\n",
    "X_hot_encoder"
   ]
  },
  {
   "cell_type": "code",
   "execution_count": 86,
   "metadata": {
    "executionInfo": {
     "elapsed": 753,
     "status": "ok",
     "timestamp": 1616776871759,
     "user": {
      "displayName": "Imanol Laconcha",
      "photoUrl": "https://lh3.googleusercontent.com/a-/AOh14GgdwLTcKvuLXY64oJFP31UAIMIkfYyj91vUKlRB2XI=s64",
      "userId": "11401304522237714459"
     },
     "user_tz": -60
    },
    "id": "qGU_3nK53Wjp"
   },
   "outputs": [],
   "source": [
    "X_hot_encoder = pd.DataFrame(X_hot_encoder)"
   ]
  },
  {
   "cell_type": "code",
   "execution_count": 87,
   "metadata": {
    "colab": {
     "base_uri": "https://localhost:8080/",
     "height": 204
    },
    "executionInfo": {
     "elapsed": 750,
     "status": "ok",
     "timestamp": 1616776871760,
     "user": {
      "displayName": "Imanol Laconcha",
      "photoUrl": "https://lh3.googleusercontent.com/a-/AOh14GgdwLTcKvuLXY64oJFP31UAIMIkfYyj91vUKlRB2XI=s64",
      "userId": "11401304522237714459"
     },
     "user_tz": -60
    },
    "id": "Pus-HdN8FIKS",
    "outputId": "71a0ec9b-f67c-4f16-dad9-c8398b87513f"
   },
   "outputs": [
    {
     "data": {
      "text/html": [
       "<div>\n",
       "<style scoped>\n",
       "    .dataframe tbody tr th:only-of-type {\n",
       "        vertical-align: middle;\n",
       "    }\n",
       "\n",
       "    .dataframe tbody tr th {\n",
       "        vertical-align: top;\n",
       "    }\n",
       "\n",
       "    .dataframe thead th {\n",
       "        text-align: right;\n",
       "    }\n",
       "</style>\n",
       "<table border=\"1\" class=\"dataframe\">\n",
       "  <thead>\n",
       "    <tr style=\"text-align: right;\">\n",
       "      <th></th>\n",
       "      <th>State</th>\n",
       "    </tr>\n",
       "  </thead>\n",
       "  <tbody>\n",
       "    <tr>\n",
       "      <th>0</th>\n",
       "      <td>4</td>\n",
       "    </tr>\n",
       "    <tr>\n",
       "      <th>1</th>\n",
       "      <td>0</td>\n",
       "    </tr>\n",
       "    <tr>\n",
       "      <th>2</th>\n",
       "      <td>2</td>\n",
       "    </tr>\n",
       "    <tr>\n",
       "      <th>3</th>\n",
       "      <td>1</td>\n",
       "    </tr>\n",
       "    <tr>\n",
       "      <th>4</th>\n",
       "      <td>4</td>\n",
       "    </tr>\n",
       "  </tbody>\n",
       "</table>\n",
       "</div>"
      ],
      "text/plain": [
       "   State\n",
       "0      4\n",
       "1      0\n",
       "2      2\n",
       "3      1\n",
       "4      4"
      ]
     },
     "execution_count": 87,
     "metadata": {},
     "output_type": "execute_result"
    }
   ],
   "source": [
    "from sklearn.preprocessing import LabelEncoder\n",
    "X_lab_encoder = LabelEncoder().fit(X_cat_label['State']).transform(X_cat_label['State'])\n",
    "X_lab_encoder = pd.DataFrame(X_lab_encoder, columns=['State'])\n",
    "X_lab_encoder.head()\n"
   ]
  },
  {
   "cell_type": "code",
   "execution_count": 88,
   "metadata": {
    "executionInfo": {
     "elapsed": 742,
     "status": "ok",
     "timestamp": 1616776871760,
     "user": {
      "displayName": "Imanol Laconcha",
      "photoUrl": "https://lh3.googleusercontent.com/a-/AOh14GgdwLTcKvuLXY64oJFP31UAIMIkfYyj91vUKlRB2XI=s64",
      "userId": "11401304522237714459"
     },
     "user_tz": -60
    },
    "id": "OWbSY1rk33Bp"
   },
   "outputs": [],
   "source": [
    "#It does not make too much sense to encode categorical variables, because there are too many categorical options.\n",
    "#For that it does not have neither sense to concat the tables."
   ]
  },
  {
   "cell_type": "code",
   "execution_count": 89,
   "metadata": {
    "colab": {
     "base_uri": "https://localhost:8080/",
     "height": 436
    },
    "executionInfo": {
     "elapsed": 1003,
     "status": "ok",
     "timestamp": 1616776872025,
     "user": {
      "displayName": "Imanol Laconcha",
      "photoUrl": "https://lh3.googleusercontent.com/a-/AOh14GgdwLTcKvuLXY64oJFP31UAIMIkfYyj91vUKlRB2XI=s64",
      "userId": "11401304522237714459"
     },
     "user_tz": -60
    },
    "id": "j86zQaUmKjNw",
    "outputId": "a70f99b7-3a08-46f0-ba6e-ed59b85dc580"
   },
   "outputs": [
    {
     "data": {
      "text/html": [
       "<div>\n",
       "<style scoped>\n",
       "    .dataframe tbody tr th:only-of-type {\n",
       "        vertical-align: middle;\n",
       "    }\n",
       "\n",
       "    .dataframe tbody tr th {\n",
       "        vertical-align: top;\n",
       "    }\n",
       "\n",
       "    .dataframe thead th {\n",
       "        text-align: right;\n",
       "    }\n",
       "</style>\n",
       "<table border=\"1\" class=\"dataframe\">\n",
       "  <thead>\n",
       "    <tr style=\"text-align: right;\">\n",
       "      <th></th>\n",
       "      <th>Customer Lifetime Value</th>\n",
       "      <th>Income</th>\n",
       "      <th>Monthly Premium Auto</th>\n",
       "      <th>Months Since Last Claim</th>\n",
       "      <th>Months Since Policy Inception</th>\n",
       "      <th>Number of Open Complaints</th>\n",
       "      <th>Number of Policies</th>\n",
       "      <th>0</th>\n",
       "      <th>1</th>\n",
       "      <th>2</th>\n",
       "      <th>3</th>\n",
       "    </tr>\n",
       "  </thead>\n",
       "  <tbody>\n",
       "    <tr>\n",
       "      <th>0</th>\n",
       "      <td>-0.762878</td>\n",
       "      <td>0.612827</td>\n",
       "      <td>-0.703925</td>\n",
       "      <td>1.678099</td>\n",
       "      <td>-1.543287</td>\n",
       "      <td>-0.422250</td>\n",
       "      <td>-0.822648</td>\n",
       "      <td>1.0</td>\n",
       "      <td>0.0</td>\n",
       "      <td>1.0</td>\n",
       "      <td>0.0</td>\n",
       "    </tr>\n",
       "    <tr>\n",
       "      <th>1</th>\n",
       "      <td>-0.149245</td>\n",
       "      <td>-1.239617</td>\n",
       "      <td>0.022691</td>\n",
       "      <td>-0.208186</td>\n",
       "      <td>-0.217334</td>\n",
       "      <td>-0.422250</td>\n",
       "      <td>2.106160</td>\n",
       "      <td>1.0</td>\n",
       "      <td>0.0</td>\n",
       "      <td>1.0</td>\n",
       "      <td>0.0</td>\n",
       "    </tr>\n",
       "    <tr>\n",
       "      <th>2</th>\n",
       "      <td>0.710636</td>\n",
       "      <td>0.365710</td>\n",
       "      <td>0.429596</td>\n",
       "      <td>0.288205</td>\n",
       "      <td>-0.360680</td>\n",
       "      <td>-0.422250</td>\n",
       "      <td>-0.404247</td>\n",
       "      <td>1.0</td>\n",
       "      <td>0.0</td>\n",
       "      <td>1.0</td>\n",
       "      <td>0.0</td>\n",
       "    </tr>\n",
       "    <tr>\n",
       "      <th>3</th>\n",
       "      <td>-0.052263</td>\n",
       "      <td>-1.239617</td>\n",
       "      <td>0.371467</td>\n",
       "      <td>0.288205</td>\n",
       "      <td>0.606907</td>\n",
       "      <td>-0.422250</td>\n",
       "      <td>1.687759</td>\n",
       "      <td>1.0</td>\n",
       "      <td>0.0</td>\n",
       "      <td>0.0</td>\n",
       "      <td>1.0</td>\n",
       "    </tr>\n",
       "    <tr>\n",
       "      <th>4</th>\n",
       "      <td>-0.755575</td>\n",
       "      <td>0.203390</td>\n",
       "      <td>-0.587666</td>\n",
       "      <td>-0.307465</td>\n",
       "      <td>-0.145661</td>\n",
       "      <td>-0.422250</td>\n",
       "      <td>-0.822648</td>\n",
       "      <td>1.0</td>\n",
       "      <td>0.0</td>\n",
       "      <td>0.0</td>\n",
       "      <td>1.0</td>\n",
       "    </tr>\n",
       "    <tr>\n",
       "      <th>...</th>\n",
       "      <td>...</td>\n",
       "      <td>...</td>\n",
       "      <td>...</td>\n",
       "      <td>...</td>\n",
       "      <td>...</td>\n",
       "      <td>...</td>\n",
       "      <td>...</td>\n",
       "      <td>...</td>\n",
       "      <td>...</td>\n",
       "      <td>...</td>\n",
       "      <td>...</td>\n",
       "    </tr>\n",
       "    <tr>\n",
       "      <th>9129</th>\n",
       "      <td>2.241590</td>\n",
       "      <td>1.128558</td>\n",
       "      <td>-0.587666</td>\n",
       "      <td>0.288205</td>\n",
       "      <td>1.466984</td>\n",
       "      <td>-0.422250</td>\n",
       "      <td>-0.404247</td>\n",
       "      <td>1.0</td>\n",
       "      <td>0.0</td>\n",
       "      <td>0.0</td>\n",
       "      <td>1.0</td>\n",
       "    </tr>\n",
       "    <tr>\n",
       "      <th>9130</th>\n",
       "      <td>-0.714411</td>\n",
       "      <td>-0.528450</td>\n",
       "      <td>-0.413278</td>\n",
       "      <td>-0.108908</td>\n",
       "      <td>-0.719046</td>\n",
       "      <td>-0.422250</td>\n",
       "      <td>-0.822648</td>\n",
       "      <td>0.0</td>\n",
       "      <td>1.0</td>\n",
       "      <td>1.0</td>\n",
       "      <td>0.0</td>\n",
       "    </tr>\n",
       "    <tr>\n",
       "      <th>9131</th>\n",
       "      <td>0.023135</td>\n",
       "      <td>-1.239617</td>\n",
       "      <td>-0.238891</td>\n",
       "      <td>-0.605299</td>\n",
       "      <td>-0.396517</td>\n",
       "      <td>2.873245</td>\n",
       "      <td>-0.404247</td>\n",
       "      <td>1.0</td>\n",
       "      <td>0.0</td>\n",
       "      <td>0.0</td>\n",
       "      <td>1.0</td>\n",
       "    </tr>\n",
       "    <tr>\n",
       "      <th>9132</th>\n",
       "      <td>-0.069935</td>\n",
       "      <td>-0.517356</td>\n",
       "      <td>0.080820</td>\n",
       "      <td>1.876656</td>\n",
       "      <td>-1.614960</td>\n",
       "      <td>-0.422250</td>\n",
       "      <td>0.014154</td>\n",
       "      <td>1.0</td>\n",
       "      <td>0.0</td>\n",
       "      <td>0.0</td>\n",
       "      <td>1.0</td>\n",
       "    </tr>\n",
       "    <tr>\n",
       "      <th>9133</th>\n",
       "      <td>-0.784955</td>\n",
       "      <td>-1.239617</td>\n",
       "      <td>-0.471408</td>\n",
       "      <td>-1.200968</td>\n",
       "      <td>1.502821</td>\n",
       "      <td>-0.422250</td>\n",
       "      <td>-0.822648</td>\n",
       "      <td>1.0</td>\n",
       "      <td>0.0</td>\n",
       "      <td>0.0</td>\n",
       "      <td>1.0</td>\n",
       "    </tr>\n",
       "  </tbody>\n",
       "</table>\n",
       "<p>9134 rows × 11 columns</p>\n",
       "</div>"
      ],
      "text/plain": [
       "      Customer Lifetime Value    Income  Monthly Premium Auto  \\\n",
       "0                   -0.762878  0.612827             -0.703925   \n",
       "1                   -0.149245 -1.239617              0.022691   \n",
       "2                    0.710636  0.365710              0.429596   \n",
       "3                   -0.052263 -1.239617              0.371467   \n",
       "4                   -0.755575  0.203390             -0.587666   \n",
       "...                       ...       ...                   ...   \n",
       "9129                 2.241590  1.128558             -0.587666   \n",
       "9130                -0.714411 -0.528450             -0.413278   \n",
       "9131                 0.023135 -1.239617             -0.238891   \n",
       "9132                -0.069935 -0.517356              0.080820   \n",
       "9133                -0.784955 -1.239617             -0.471408   \n",
       "\n",
       "      Months Since Last Claim  Months Since Policy Inception  \\\n",
       "0                    1.678099                      -1.543287   \n",
       "1                   -0.208186                      -0.217334   \n",
       "2                    0.288205                      -0.360680   \n",
       "3                    0.288205                       0.606907   \n",
       "4                   -0.307465                      -0.145661   \n",
       "...                       ...                            ...   \n",
       "9129                 0.288205                       1.466984   \n",
       "9130                -0.108908                      -0.719046   \n",
       "9131                -0.605299                      -0.396517   \n",
       "9132                 1.876656                      -1.614960   \n",
       "9133                -1.200968                       1.502821   \n",
       "\n",
       "      Number of Open Complaints  Number of Policies    0    1    2    3  \n",
       "0                     -0.422250           -0.822648  1.0  0.0  1.0  0.0  \n",
       "1                     -0.422250            2.106160  1.0  0.0  1.0  0.0  \n",
       "2                     -0.422250           -0.404247  1.0  0.0  1.0  0.0  \n",
       "3                     -0.422250            1.687759  1.0  0.0  0.0  1.0  \n",
       "4                     -0.422250           -0.822648  1.0  0.0  0.0  1.0  \n",
       "...                         ...                 ...  ...  ...  ...  ...  \n",
       "9129                  -0.422250           -0.404247  1.0  0.0  0.0  1.0  \n",
       "9130                  -0.422250           -0.822648  0.0  1.0  1.0  0.0  \n",
       "9131                   2.873245           -0.404247  1.0  0.0  0.0  1.0  \n",
       "9132                  -0.422250            0.014154  1.0  0.0  0.0  1.0  \n",
       "9133                  -0.422250           -0.822648  1.0  0.0  0.0  1.0  \n",
       "\n",
       "[9134 rows x 11 columns]"
      ]
     },
     "execution_count": 89,
     "metadata": {},
     "output_type": "execute_result"
    }
   ],
   "source": [
    "X_concat = pd.concat([X_standarized, X_hot_encoder], axis=1)\n",
    "X_concat"
   ]
  },
  {
   "cell_type": "code",
   "execution_count": 90,
   "metadata": {
    "executionInfo": {
     "elapsed": 996,
     "status": "ok",
     "timestamp": 1616776872026,
     "user": {
      "displayName": "Imanol Laconcha",
      "photoUrl": "https://lh3.googleusercontent.com/a-/AOh14GgdwLTcKvuLXY64oJFP31UAIMIkfYyj91vUKlRB2XI=s64",
      "userId": "11401304522237714459"
     },
     "user_tz": -60
    },
    "id": "Bi8hbW_g65Jy"
   },
   "outputs": [],
   "source": [
    "#Splitting into train set and test set.\n",
    "from sklearn.model_selection import train_test_split\n",
    "X = X_num\n",
    "X_train, X_test, y_train, y_test = train_test_split(X_num, y, test_size=0.25, random_state=100)"
   ]
  },
  {
   "cell_type": "code",
   "execution_count": 91,
   "metadata": {
    "colab": {
     "base_uri": "https://localhost:8080/"
    },
    "executionInfo": {
     "elapsed": 994,
     "status": "ok",
     "timestamp": 1616776872027,
     "user": {
      "displayName": "Imanol Laconcha",
      "photoUrl": "https://lh3.googleusercontent.com/a-/AOh14GgdwLTcKvuLXY64oJFP31UAIMIkfYyj91vUKlRB2XI=s64",
      "userId": "11401304522237714459"
     },
     "user_tz": -60
    },
    "id": "C585CEQK7WFV",
    "outputId": "9afe3d59-7636-47be-e950-9bd2b106d0a5"
   },
   "outputs": [
    {
     "name": "stdout",
     "output_type": "stream",
     "text": [
      "66.93522421922779\n",
      "[-1.01188841e-03 -3.29252039e-03  5.45645298e+00 -1.01719336e-01\n",
      " -1.43891213e-01 -1.07578753e-01  5.04517975e-01]\n"
     ]
    }
   ],
   "source": [
    "#Modeling\n",
    "lm = linear_model.LinearRegression()\n",
    "model = lm.fit(X_train,y_train) \n",
    "print(lm.intercept_)\n",
    "print(lm.coef_)"
   ]
  },
  {
   "cell_type": "code",
   "execution_count": 92,
   "metadata": {
    "executionInfo": {
     "elapsed": 987,
     "status": "ok",
     "timestamp": 1616776872027,
     "user": {
      "displayName": "Imanol Laconcha",
      "photoUrl": "https://lh3.googleusercontent.com/a-/AOh14GgdwLTcKvuLXY64oJFP31UAIMIkfYyj91vUKlRB2XI=s64",
      "userId": "11401304522237714459"
     },
     "user_tz": -60
    },
    "id": "iRxn56fbMOLo"
   },
   "outputs": [],
   "source": [
    "from sklearn.metrics import r2_score\n",
    "from sklearn.metrics import mean_squared_error"
   ]
  },
  {
   "cell_type": "code",
   "execution_count": 93,
   "metadata": {
    "colab": {
     "base_uri": "https://localhost:8080/",
     "height": 693
    },
    "executionInfo": {
     "elapsed": 1986,
     "status": "ok",
     "timestamp": 1616776873030,
     "user": {
      "displayName": "Imanol Laconcha",
      "photoUrl": "https://lh3.googleusercontent.com/a-/AOh14GgdwLTcKvuLXY64oJFP31UAIMIkfYyj91vUKlRB2XI=s64",
      "userId": "11401304522237714459"
     },
     "user_tz": -60
    },
    "id": "KXKL5y9bOD7k",
    "outputId": "ddcb6809-63aa-4c26-b3ce-31abdfc7f3ee"
   },
   "outputs": [
    {
     "data": {
      "image/png": "[encoded data removed]",
      "text/plain": [
       "<Figure size 1200x640 with 2 Axes>"
      ]
     },
     "metadata": {
      "needs_background": "light"
     },
     "output_type": "display_data"
    }
   ],
   "source": [
    "plt.figure(figsize=(15,8), dpi=80)\n",
    "correlations_matrix = file.corr()\n",
    "sns.heatmap(correlations_matrix, annot=True)\n",
    "plt.show()"
   ]
  },
  {
   "cell_type": "code",
   "execution_count": 94,
   "metadata": {
    "id": "g2Hwc0fRdzZO"
   },
   "outputs": [
    {
     "data": {
      "text/plain": [
       "0.4842810864484607"
      ]
     },
     "execution_count": 94,
     "metadata": {},
     "output_type": "execute_result"
    }
   ],
   "source": [
    "#R2\n",
    "predictions = lm.predict(X_test)\n",
    "r2_score(y_test, predictions)\n",
    "r2 = r2_score(y_test, predictions)\n",
    "r2"
   ]
  },
  {
   "cell_type": "code",
   "execution_count": 95,
   "metadata": {},
   "outputs": [
    {
     "name": "stdout",
     "output_type": "stream",
     "text": [
      "41348.336354982646\n"
     ]
    }
   ],
   "source": [
    "#Description: MSE.\n",
    "mse = mean_squared_error(y_test, predictions)\n",
    "print(mse)"
   ]
  },
  {
   "cell_type": "code",
   "execution_count": 96,
   "metadata": {},
   "outputs": [
    {
     "name": "stdout",
     "output_type": "stream",
     "text": [
      "203.3429033799376\n"
     ]
    }
   ],
   "source": [
    "#Description: RMSE.\n",
    "rmse = math.sqrt(mse)\n",
    "print(rmse)"
   ]
  },
  {
   "cell_type": "code",
   "execution_count": 97,
   "metadata": {},
   "outputs": [
    {
     "data": {
      "text/plain": [
       "147.69641546590404"
      ]
     },
     "execution_count": 97,
     "metadata": {},
     "output_type": "execute_result"
    }
   ],
   "source": [
    "#Description: MAE.\n",
    "from sklearn.metrics import mean_absolute_error\n",
    "mean_absolute_error(y_test, predictions)"
   ]
  },
  {
   "cell_type": "code",
   "execution_count": null,
   "metadata": {},
   "outputs": [],
   "source": []
  }
 ],
 "metadata": {
  "colab": {
   "authorship_tag": "ABX9TyNiYGSR32UT/ricRX3Pylz6",
   "collapsed_sections": [],
   "name": "lab_round7.ipynb",
   "provenance": []
  },
  "kernelspec": {
   "display_name": "Python 3",
   "language": "python",
   "name": "python3"
  },
  "language_info": {
   "codemirror_mode": {
    "name": "ipython",
    "version": 3
   },
   "file_extension": ".py",
   "mimetype": "text/x-python",
   "name": "python",
   "nbconvert_exporter": "python",
   "pygments_lexer": "ipython3",
   "version": "3.9.2"
  }
 },
 "nbformat": 4,
 "nbformat_minor": 1
}
